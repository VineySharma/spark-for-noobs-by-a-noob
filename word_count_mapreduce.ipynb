{
 "cells": [
  {
   "cell_type": "code",
   "execution_count": 1,
   "metadata": {},
   "outputs": [],
   "source": [
    "text_RDD = sc.textFile('./textfile_1.txt')"
   ]
  },
  {
   "cell_type": "code",
   "execution_count": 2,
   "metadata": {},
   "outputs": [
    {
     "data": {
      "text/plain": [
       "pyspark.rdd.RDD"
      ]
     },
     "execution_count": 2,
     "metadata": {},
     "output_type": "execute_result"
    }
   ],
   "source": [
    "type(text_RDD)"
   ]
  },
  {
   "cell_type": "markdown",
   "metadata": {},
   "source": [
    "### The `map` step "
   ]
  },
  {
   "cell_type": "code",
   "execution_count": 4,
   "metadata": {},
   "outputs": [
    {
     "name": "stdout",
     "output_type": "stream",
     "text": [
      "[(u'A', 1), (u'quick', 1), (u'brown', 1), (u'fox', 1), (u'jumped', 1), (u'over', 1), (u'a', 1), (u'lazy', 1), (u'dog.', 1), (u'A', 1), (u'quick', 1), (u'brown', 1), (u'dog', 1), (u'jumped', 1), (u'over', 1), (u'a', 1), (u'lazy', 1), (u'fox.', 1)]\n"
     ]
    }
   ],
   "source": [
    "def split_word(line):\n",
    "    return line.split()\n",
    "\n",
    "def create_pair(word):\n",
    "    return (word,1)\n",
    "\n",
    "pairs_RDD = text_RDD.flatMap(split_word).map(create_pair)\n",
    "print pairs_RDD.collect()"
   ]
  },
  {
   "cell_type": "markdown",
   "metadata": {},
   "source": [
    "### The `reduce` step"
   ]
  },
  {
   "cell_type": "code",
   "execution_count": 7,
   "metadata": {},
   "outputs": [
    {
     "data": {
      "text/plain": [
       "[(u'A', 2),\n",
       " (u'dog.', 1),\n",
       " (u'lazy', 2),\n",
       " (u'over', 2),\n",
       " (u'fox', 1),\n",
       " (u'a', 2),\n",
       " (u'quick', 2),\n",
       " (u'brown', 2),\n",
       " (u'dog', 1),\n",
       " (u'jumped', 2),\n",
       " (u'fox.', 1)]"
      ]
     },
     "execution_count": 7,
     "metadata": {},
     "output_type": "execute_result"
    }
   ],
   "source": [
    "def sum_counts(a, b):\n",
    "    return a + b\n",
    "wordcounts_RDD = pairs_RDD.reduceByKey(sum_counts)\n",
    "wordcounts_RDD.collect()"
   ]
  },
  {
   "cell_type": "code",
   "execution_count": null,
   "metadata": {},
   "outputs": [],
   "source": []
  }
 ],
 "metadata": {
  "kernelspec": {
   "display_name": "Python 2",
   "language": "python",
   "name": "python2"
  },
  "language_info": {
   "codemirror_mode": {
    "name": "ipython",
    "version": 2
   },
   "file_extension": ".py",
   "mimetype": "text/x-python",
   "name": "python",
   "nbconvert_exporter": "python",
   "pygments_lexer": "ipython2",
   "version": "2.7.12"
  }
 },
 "nbformat": 4,
 "nbformat_minor": 2
}
