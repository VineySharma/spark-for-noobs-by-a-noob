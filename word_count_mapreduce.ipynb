{
 "cells": [
  {
   "cell_type": "markdown",
   "metadata": {},
   "source": [
    "# Spark Transformations through Wordcount "
   ]
  },
  {
   "cell_type": "code",
   "execution_count": 13,
   "metadata": {},
   "outputs": [
    {
     "data": {
      "text/plain": [
       "[0, 1, 2, 3, 4, 5, 6, 7, 8, 9]"
      ]
     },
     "execution_count": 13,
     "metadata": {},
     "output_type": "execute_result"
    }
   ],
   "source": [
    "integer_RDD = sc.parallelize(range(10), 3)\n",
    "# Gather all data on the partition\n",
    "integer_RDD.collect()"
   ]
  },
  {
   "cell_type": "code",
   "execution_count": null,
   "metadata": {},
   "outputs": [],
   "source": []
  },
  {
   "cell_type": "code",
   "execution_count": 11,
   "metadata": {},
   "outputs": [],
   "source": [
    "text_RDD = sc.textFile('./textfile_1.txt')"
   ]
  },
  {
   "cell_type": "code",
   "execution_count": 12,
   "metadata": {},
   "outputs": [
    {
     "data": {
      "text/plain": [
       "pyspark.rdd.RDD"
      ]
     },
     "execution_count": 12,
     "metadata": {},
     "output_type": "execute_result"
    }
   ],
   "source": [
    "type(text_RDD)"
   ]
  },
  {
   "cell_type": "markdown",
   "metadata": {},
   "source": [
    "### The `map` step "
   ]
  },
  {
   "cell_type": "code",
   "execution_count": 3,
   "metadata": {},
   "outputs": [
    {
     "name": "stdout",
     "output_type": "stream",
     "text": [
      "[(u'A', 1), (u'quick', 1), (u'brown', 1), (u'fox', 1), (u'jumped', 1), (u'over', 1), (u'a', 1), (u'lazy', 1), (u'dog.', 1), (u'A', 1), (u'quick', 1), (u'brown', 1), (u'dog', 1), (u'jumped', 1), (u'over', 1), (u'a', 1), (u'lazy', 1), (u'fox.', 1)]\n"
     ]
    }
   ],
   "source": [
    "def split_word(line):\n",
    "    return line.split()\n",
    "\n",
    "def create_pair(word):\n",
    "    return (word,1)\n",
    "\n",
    "pairs_RDD = text_RDD.flatMap(split_word).map(create_pair)\n",
    "print pairs_RDD.collect()"
   ]
  },
  {
   "cell_type": "markdown",
   "metadata": {},
   "source": [
    "### The `reduce` step"
   ]
  },
  {
   "cell_type": "code",
   "execution_count": 4,
   "metadata": {},
   "outputs": [
    {
     "data": {
      "text/plain": [
       "[(u'A', 2),\n",
       " (u'dog.', 1),\n",
       " (u'lazy', 2),\n",
       " (u'over', 2),\n",
       " (u'fox', 1),\n",
       " (u'a', 2),\n",
       " (u'quick', 2),\n",
       " (u'brown', 2),\n",
       " (u'dog', 1),\n",
       " (u'jumped', 2),\n",
       " (u'fox.', 1)]"
      ]
     },
     "execution_count": 4,
     "metadata": {},
     "output_type": "execute_result"
    }
   ],
   "source": [
    "def sum_counts(a, b):\n",
    "    return a + b\n",
    "wordcounts_RDD = pairs_RDD.reduceByKey(sum_counts)\n",
    "wordcounts_RDD.collect()"
   ]
  },
  {
   "cell_type": "markdown",
   "metadata": {},
   "source": [
    "### Transformations"
   ]
  },
  {
   "cell_type": "markdown",
   "metadata": {},
   "source": [
    "#### `flatMap`"
   ]
  },
  {
   "cell_type": "code",
   "execution_count": 7,
   "metadata": {},
   "outputs": [
    {
     "data": {
      "text/plain": [
       "[u'A',\n",
       " u'quick',\n",
       " u'brown',\n",
       " u'fox',\n",
       " u'jumped',\n",
       " u'over',\n",
       " u'a',\n",
       " u'lazy',\n",
       " u'dog.',\n",
       " u'A',\n",
       " u'quick',\n",
       " u'brown',\n",
       " u'dog',\n",
       " u'jumped',\n",
       " u'over',\n",
       " u'a',\n",
       " u'lazy',\n",
       " u'fox.']"
      ]
     },
     "execution_count": 7,
     "metadata": {},
     "output_type": "execute_result"
    }
   ],
   "source": [
    "words_RDD = text_RDD.flatMap(split_word)\n",
    "words_RDD.collect()"
   ]
  },
  {
   "cell_type": "markdown",
   "metadata": {},
   "source": [
    "#### `filter`"
   ]
  },
  {
   "cell_type": "code",
   "execution_count": 8,
   "metadata": {},
   "outputs": [
    {
     "data": {
      "text/plain": [
       "[u'A', u'a', u'A', u'a']"
      ]
     },
     "execution_count": 8,
     "metadata": {},
     "output_type": "execute_result"
    }
   ],
   "source": [
    "def starts_with_a(word):\n",
    "    return word.lower().startswith(\"a\")\n",
    "words_RDD.filter(starts_with_a).collect()"
   ]
  },
  {
   "cell_type": "markdown",
   "metadata": {},
   "source": [
    "#### `groupByKey`"
   ]
  },
  {
   "cell_type": "code",
   "execution_count": 9,
   "metadata": {},
   "outputs": [
    {
     "data": {
      "text/plain": [
       "[(u'A', <pyspark.resultiterable.ResultIterable at 0x7fcde8bc51d0>),\n",
       " (u'dog.', <pyspark.resultiterable.ResultIterable at 0x7fcde8bc5650>),\n",
       " (u'lazy', <pyspark.resultiterable.ResultIterable at 0x7fcde8bc56d0>),\n",
       " (u'over', <pyspark.resultiterable.ResultIterable at 0x7fcde8bc5710>),\n",
       " (u'fox', <pyspark.resultiterable.ResultIterable at 0x7fcde8bc5750>),\n",
       " (u'a', <pyspark.resultiterable.ResultIterable at 0x7fcde8bc5790>),\n",
       " (u'quick', <pyspark.resultiterable.ResultIterable at 0x7fcde8bc57d0>),\n",
       " (u'brown', <pyspark.resultiterable.ResultIterable at 0x7fcde8bc5810>),\n",
       " (u'dog', <pyspark.resultiterable.ResultIterable at 0x7fcde8bc5850>),\n",
       " (u'jumped', <pyspark.resultiterable.ResultIterable at 0x7fcde8bc5890>),\n",
       " (u'fox.', <pyspark.resultiterable.ResultIterable at 0x7fcde8bc58d0>)]"
      ]
     },
     "execution_count": 9,
     "metadata": {},
     "output_type": "execute_result"
    }
   ],
   "source": [
    "pairs_RDD.groupByKey().collect()"
   ]
  },
  {
   "cell_type": "code",
   "execution_count": 10,
   "metadata": {},
   "outputs": [
    {
     "name": "stdout",
     "output_type": "stream",
     "text": [
      "Key: A , Values: [1, 1]\n",
      "Key: dog. , Values: [1]\n",
      "Key: lazy , Values: [1, 1]\n",
      "Key: over , Values: [1, 1]\n",
      "Key: fox , Values: [1]\n",
      "Key: a , Values: [1, 1]\n",
      "Key: quick , Values: [1, 1]\n",
      "Key: brown , Values: [1, 1]\n",
      "Key: dog , Values: [1]\n",
      "Key: jumped , Values: [1, 1]\n",
      "Key: fox. , Values: [1]\n"
     ]
    }
   ],
   "source": [
    "for k,v in pairs_RDD.groupByKey().collect():\n",
    "    print \"Key:\", k, \", Values:\", list(v)"
   ]
  },
  {
   "cell_type": "code",
   "execution_count": null,
   "metadata": {},
   "outputs": [],
   "source": []
  }
 ],
 "metadata": {
  "kernelspec": {
   "display_name": "Python 2",
   "language": "python",
   "name": "python2"
  },
  "language_info": {
   "codemirror_mode": {
    "name": "ipython",
    "version": 2
   },
   "file_extension": ".py",
   "mimetype": "text/x-python",
   "name": "python",
   "nbconvert_exporter": "python",
   "pygments_lexer": "ipython2",
   "version": "2.7.12"
  }
 },
 "nbformat": 4,
 "nbformat_minor": 2
}
